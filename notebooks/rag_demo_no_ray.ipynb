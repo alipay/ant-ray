{
 "cells": [
  {
   "cell_type": "code",
   "execution_count": 20,
   "metadata": {},
   "outputs": [
    {
     "name": "stdout",
     "output_type": "stream",
     "text": [
      "The autoreload extension is already loaded. To reload it, use:\n",
      "  %reload_ext autoreload\n"
     ]
    }
   ],
   "source": [
    "import os\n",
    "import sys; sys.path.append(\"..\")\n",
    "import warnings; warnings.filterwarnings(\"ignore\")\n",
    "from dotenv import load_dotenv; load_dotenv()\n",
    "%load_ext autoreload\n",
    "%autoreload 2\n",
    "\n",
    "# https://yuque.antfin-inc.com/ray-project/manual/diwe1q\n",
    "from rag.config import ROOT_DIR\n"
   ]
  },
  {
   "cell_type": "code",
   "execution_count": 21,
   "metadata": {},
   "outputs": [
    {
     "name": "stdout",
     "output_type": "stream",
     "text": [
      "/Users/paer/Documents/work/codes/RAG_ray\n"
     ]
    },
    {
     "data": {
      "text/plain": [
       "1"
      ]
     },
     "execution_count": 21,
     "metadata": {},
     "output_type": "execute_result"
    }
   ],
   "source": [
    "from pathlib import Path\n",
    "from rag.config import EFS_DIR\n",
    "print(EFS_DIR)\n",
    "DOCS_DIR = Path(EFS_DIR)\n",
    "files = [{\"path\": path} for path in DOCS_DIR.rglob(\"*.md\") if not path.is_dir()]\n",
    "len(files)"
   ]
  },
  {
   "cell_type": "code",
   "execution_count": 23,
   "metadata": {},
   "outputs": [],
   "source": [
    "import matplotlib.pyplot as plt\n",
    "from rag.data import extract_sections"
   ]
  },
  {
   "cell_type": "code",
   "execution_count": 24,
   "metadata": {},
   "outputs": [],
   "source": [
    "import re\n",
    "\n",
    "def extract_md_sections(record):\n",
    "    with open(record[\"path\"], \"r\", encoding=\"utf-8\") as file:\n",
    "        file_content = file.read()\n",
    "        sections = re.split(r'\\n# ', file_content)[1:]  # 使用正则表达式以一级标题切分文本并去除第一个空项\n",
    "        print(len(sections))\n",
    "        section_list = []\n",
    "        for section in sections:\n",
    "            section_list.append({\"source\": record[\"path\"], \"text\": section})\n",
    "        return section_list\n",
    "\n"
   ]
  },
  {
   "cell_type": "code",
   "execution_count": 25,
   "metadata": {},
   "outputs": [
    {
     "data": {
      "text/plain": [
       "[{'source': PosixPath('/Users/paer/Documents/work/codes/RAG_ray/1.4.x.md'),\n",
       "  'text': \"1.4.18.3\\n\\n- 发布时间：2023.07.04\\n- 镜像：reg.docker.alibaba-inc.com/antfin_datatech_share/new_ray_image_prod:20230718100457-1.4.18.3-0a6d789a\\n- 公共试用集群：[ray-public-em14-gray](https://antc.alipay.com/raycloud/cluster/detail/186000185)（提供给大家测试使用，可以随意提交，但是不要发正式的作业）。\\n- Maven依赖：\\n```xml\\n<dependency>\\n  <groupId>io.ant-ray</groupId>\\n  <artifactId>ray-api</artifactId>\\n  <version>1.4.18.3</version>\\n</dependency>\\n<dependency>\\n  <groupId>io.ant-ray</groupId>\\n  <artifactId>ray-runtime</artifactId>\\n  <version>1.4.18.3</version>\\n</dependency>\\n```\\n\\n- pip\\n```\\npip install -i https://artifacts.antgroup-inc.cn/simple/ 'ant-ray==1.4.18.3'\\n```\\n\\ncpp:\\n```\\nhttp://raylet.cn-hangzhou-alipay-b.oss-cdn.aliyun-inc.com/ci/ant-ray-cpp-9d60b4536f6e9fe57b31cdd3a3813d011fbae35489ddcbd5353b8583677ff65e.zip\\nsha256: 9d60b4536f6e9fe57b31cdd3a3813d011fbae35489ddcbd5353b8583677ff65e\\nroot_dir_name: ray-1.4.18.3\\n```\\n\\n- Git tag：ant-ray-1.4.18.3\\n- Git commit: 0a6d789a32b26eb1d0d3f4c8b77e5be10df39fb4\\n## Release notes\\n### BUG Fixes\\n\\n- 被强制踢出框架集群的节点重启失效导致的worker泄漏问题\\n- 兼容4.0版本的redis\\n- 暂时关闭raylet oom killer\"},\n",
       " {'source': PosixPath('/Users/paer/Documents/work/codes/RAG_ray/1.4.x.md'),\n",
       "  'text': \"1.4.18.2\\n\\n- 发布时间：2023.07.04\\n- 镜像：reg.docker.alibaba-inc.com/antfin_datatech_share/new_ray_image_prod:20230704212350-1.4.18.2-3a934278\\n- 公共试用集群：[ray-public-em14-gray](https://antc.alipay.com/raycloud/cluster/detail/186000185)（提供给大家测试使用，可以随意提交，但是不要发正式的作业）。\\n- Maven依赖：\\n```xml\\n<dependency>\\n  <groupId>io.ant-ray</groupId>\\n  <artifactId>ray-api</artifactId>\\n  <version>1.4.18.2</version>\\n</dependency>\\n<dependency>\\n  <groupId>io.ant-ray</groupId>\\n  <artifactId>ray-runtime</artifactId>\\n  <version>1.4.18.2</version>\\n</dependency>\\n```\\n\\n- pip\\n```\\npip install -i https://artifacts.antgroup-inc.cn/simple/ 'ant-ray==1.4.18.2'\\n```\\n\\ncpp:\\n```\\nhttp://raylet.cn-hangzhou-alipay-b.oss-cdn.aliyun-inc.com/ci/ant-ray-cpp-be0e6064786c0b37faa37c68b2542b10b2e5674baa1d873aa368a803940ea806.zip\\nsha256: be0e6064786c0b37faa37c68b2542b10b2e5674baa1d873aa368a803940ea806\\nroot_dir_name: ray-1.4.18.2\\n```\\n\\n- Git tag：ant-ray-1.4.18.2\\n- Git commit: 3a93427880a608261caaa7afa3ee1ceb42b68dd7\\n## Release notes\\n### BUG Fixes\\n\\n- C++ Worker libray_api.so放开所有符号，临时解决视频openssl符号冲突问题\\n- 设置joblib依赖版本，解决CI UT问题\"},\n",
       " {'source': PosixPath('/Users/paer/Documents/work/codes/RAG_ray/1.4.x.md'),\n",
       "  'text': \"1.4.18.1\\n\\n- 发布时间：2023.06.30\\n- 镜像：reg.docker.alibaba-inc.com/antfin_datatech_share/new_ray_image_prod:20230629112820-1.4.18.1-767aed66\\n- 公共试用集群：[ray-public-em14-gray](https://antc.alipay.com/raycloud/cluster/detail/186000185)（提供给大家测试使用，可以随意提交，但是不要发正式的作业）。\\n- Maven依赖：\\n```xml\\n<dependency>\\n  <groupId>io.ant-ray</groupId>\\n  <artifactId>ray-api</artifactId>\\n  <version>1.4.18.1</version>\\n</dependency>\\n<dependency>\\n  <groupId>io.ant-ray</groupId>\\n  <artifactId>ray-runtime</artifactId>\\n  <version>1.4.18.1</version>\\n</dependency>\\n```\\n\\n- pip\\n```\\npip install -i https://artifacts.antgroup-inc.cn/simple/ 'ant-ray==1.4.18.1'\\n```\\n\\ncpp:\\n```\\nhttp://raylet.cn-hangzhou-alipay-b.oss-cdn.aliyun-inc.com/ci/ant-ray-cpp-40257a7a53857885d0e20bebc292ddececd65cdbb82e2a693c9055204059f747.zip\\nsha256: 40257a7a53857885d0e20bebc292ddececd65cdbb82e2a693c9055204059f747\\nroot_dir_name: ray-1.4.18.1\\n```\\n\\n- Git tag：ant-ray-1.4.18.1\\n- Git commit: 767aed66ab729c05d26768307a16d89988a9853d\\n## Release notes\\n### 优化\\n\\n- 【runtime_env】升级 conmon 和 podman binary，优化 RuntimEnv(podman 容器) 回收时的进程泄露问题\"},\n",
       " {'source': PosixPath('/Users/paer/Documents/work/codes/RAG_ray/1.4.x.md'),\n",
       "  'text': \"1.4.18\\n\\n- 发布时间：\\n- 镜像：reg.docker.alibaba-inc.com/antfin_datatech_share/new_ray_image_prod:20230518104725-1.4.18-e0167eb4\\n- 公共试用集群：[ray-public-em14-gray](https://antc.alipay.com/raycloud/cluster/detail/186000185)（提供给大家测试使用，可以随意提交，但是不要发正式的作业）。\\n- Maven依赖：\\n```xml\\n<dependency>\\n  <groupId>io.ant-ray</groupId>\\n  <artifactId>ray-api</artifactId>\\n  <version>1.4.18</version>\\n</dependency>\\n<dependency>\\n  <groupId>io.ant-ray</groupId>\\n  <artifactId>ray-runtime</artifactId>\\n  <version>1.4.18</version>\\n</dependency>\\n```\\n\\n- pip\\n```\\npip install -i https://artifacts.antgroup-inc.cn/simple/ 'ant-ray==1.4.18'\\n```\\n\\ncpp:\\n```\\nhttp://raylet.cn-hangzhou-alipay-b.oss-cdn.aliyun-inc.com/ci/ant-ray-cpp-445cdf8f29d7b7acac0671feedcdccd37ab06463f2e6625ca981cffec386b2d8.zip\\nsha256: 445cdf8f29d7b7acac0671feedcdccd37ab06463f2e6625ca981cffec386b2d8\\nroot_dir_name: ray-1.4.18\\n```\\n\\n- Git tag：ant-ray-1.4.18\\n- Git commit: e0167eb4120dc95eab1ba059ebd7ce64c55f124a\\n## Release notes\\n### 新功能\\n\\n- 【runtime env】Ray去依赖，去掉sklean，tensorboard等无关依赖（可能对应用兼容性有影响）\\n- 【runtime env】Ray集群镜像中的Ray whl包名字切到ant-ray，并且做唯一版本号\\n- 【runtime env】支持worker in container新的运行方式：在用户镜像里安装Ray，选项为“_install_ray”\\n- 【event】支持worker启动异常日志透出到event\\n- 【core】raylet oom killer的内存信息收集方式仿照earlyoom; 现在默认打开\\n- 【无感迁移】支持用户订阅其他job状态\\n- 【dashboard】API server的框架集群查询接口支持显示是否开启 job quota limit\\n### 优化\\n\\n- 【core】引入Pull based heath check功能\\n- 【core】禁止向默认的框架集群提交作业\\n- 【core】更新oss密钥，修复安全漏洞\\n- 【core】Raylet oom killer支持在线更新配置\\n- 【core】更新 dfget 版本\\n- 【core】raylet和gcs断连后降低查询tbase的频率\\n- 【core】关闭froce_grpc_ipv4，解决https下载问题\\n- 【object store】raylet 批量上报 object location\\n- 【dashboard】框架集群页面展示框架集群内节点数量\\n- 【dashboard】为worker页面过滤idle worker添加开关\\n- 【dashboard】优化dashboard GC，减少内存占用\\n- 【java】增加创建actor的最大重试次数\\n### Bug Fixes\\n\\n- 【dashboard】修复日志链接切换在worker页面中不存在的bug\\n- 【dashboard】修复cpp依赖不显示的问题\\n- 【core】修复raylet oom killer在线更新配置及event显示相关的问题\\n- 【object store】修复 object 重传的相关 bug\\n- 【java】解决driver command重复增长的问题\"},\n",
       " {'source': PosixPath('/Users/paer/Documents/work/codes/RAG_ray/1.4.x.md'),\n",
       "  'text': \"1.4.17.5\\n\\n- 发布时间：2023.05.11\\n- 镜像：reg.docker.alibaba-inc.com/antfin_datatech_share/new_ray_image_prod:20230510145804-1.4.17.5-fff7c599\\n- AntC集群包版本：ray-1.4.17.5\\n- 公共试用集群：[ray-public-em14-gray](https://antc.alipay.com/raycloud/cluster/detail/186000185)（提供给大家测试使用，可以随意提交，但是不要发正式的作业）。\\n- Maven依赖：\\n```xml\\n<dependency>\\n  <groupId>io.ant-ray</groupId>\\n  <artifactId>ray-api</artifactId>\\n  <version>1.4.17.5</version>\\n</dependency>\\n<dependency>\\n  <groupId>io.ant-ray</groupId>\\n  <artifactId>ray-runtime</artifactId>\\n  <version>1.4.17.5</version>\\n</dependency>\\n```\\n\\n- pip\\n```\\npip install -i https://artifacts.antgroup-inc.cn/simple/ 'ant-ray==1.4.17.5'\\n```\\n\\ncpp:\\n```\\nhttp://raylet.cn-hangzhou-alipay-b.oss-cdn.aliyun-inc.com/ci/ant-ray-cpp-d735d893c46005b6a6c05360607e589464b0caefcadf8463ec66bf94229e5677.zip\\nsha256: d735d893c46005b6a6c05360607e589464b0caefcadf8463ec66bf94229e5677\\nroot_dir_name: ray-1.4.17.5\\n```\\n\\n- Git tag：ant-ray-1.4.17.5\\n- Git commit: fff7c599012099f4290f1e23c05bab8d8ef006fe\\n## Release notes\\n### Bug Fixes\\n\\n- 【Core】修复cancelled worker lease重复reply导致的gcs crash问题\\n- 【Core】修复框架集群分片调度在raylet FO时没有被触发的问题\\n- 【Core】修复用户Driver代码Hang住时Cancel作业出现Driver进程泄漏的问题\\n- 【Dashboard】修复日志轮转空行导致的event漏扫\\n- 【Dashboard】作业worker日志链接修复\\n- 【Dashboard】Dashboard job删除时垃圾回收，减少内存占用\\n- 【安全】修复log4j安全漏洞的问题，使用蚂蚁制定的nolookup版本\"}]"
      ]
     },
     "execution_count": 25,
     "metadata": {},
     "output_type": "execute_result"
    }
   ],
   "source": [
    "context = tmp_sections[0:5]\n",
    "context"
   ]
  },
  {
   "cell_type": "code",
   "execution_count": 27,
   "metadata": {},
   "outputs": [
    {
     "data": {
      "text/plain": [
       "[{'path': PosixPath('/Users/paer/Documents/work/codes/RAG_ray/1.4.x.md')}]"
      ]
     },
     "execution_count": 27,
     "metadata": {},
     "output_type": "execute_result"
    }
   ],
   "source": [
    "files"
   ]
  },
  {
   "cell_type": "code",
   "execution_count": 30,
   "metadata": {},
   "outputs": [
    {
     "name": "stdout",
     "output_type": "stream",
     "text": [
      "34\n"
     ]
    }
   ],
   "source": [
    "sections_data = list(map(extract_md_sections, files))[0]"
   ]
  },
  {
   "cell_type": "code",
   "execution_count": 32,
   "metadata": {},
   "outputs": [
    {
     "data": {
      "image/png": "[encoded data removed]",
      "text/plain": [
       "<Figure size 1200x300 with 1 Axes>"
      ]
     },
     "metadata": {},
     "output_type": "display_data"
    }
   ],
   "source": [
    "section_lengths = []\n",
    "for section in sections_data:\n",
    "    section_lengths.append(len(section[\"text\"]))\n",
    "# Plot\n",
    "plt.figure(figsize=(12, 3))\n",
    "plt.plot(section_lengths, marker='o')\n",
    "plt.title(\"Section lengths\")\n",
    "plt.ylabel(\"# chars\")\n",
    "plt.show()"
   ]
  },
  {
   "cell_type": "code",
   "execution_count": 33,
   "metadata": {},
   "outputs": [],
   "source": [
    "from functools import partial\n",
    "from langchain.text_splitter import RecursiveCharacterTextSplitter\n",
    "\n",
    "# Text splitter\n",
    "chunk_size = 2000\n",
    "chunk_overlap = 100\n",
    "text_splitter = RecursiveCharacterTextSplitter(\n",
    "    separators=[\"\\n\\n\", \"\\n\", \" \", \"\"],\n",
    "    chunk_size=chunk_size,\n",
    "    chunk_overlap=chunk_overlap,\n",
    "    length_function=len)\n",
    "\n",
    "def chunk_section(section, chunk_size, chunk_overlap):\n",
    "    text_splitter = RecursiveCharacterTextSplitter(\n",
    "        separators=[\"\\n\\n\", \"\\n\", \" \", \"\"],\n",
    "        chunk_size=chunk_size,\n",
    "        chunk_overlap=chunk_overlap,\n",
    "        length_function=len)\n",
    "    chunks = text_splitter.create_documents(\n",
    "        texts=[section[\"text\"]], \n",
    "        metadatas=[{\"source\": section[\"source\"]}])\n",
    "    return [{\"text\": chunk.page_content, \"source\": str(chunk.metadata[\"source\"])} for chunk in chunks]"
   ]
  },
  {
   "cell_type": "code",
   "execution_count": 55,
   "metadata": {},
   "outputs": [],
   "source": [
    "# Chunking\n",
    "chunks_data = list(map(partial(\n",
    "    chunk_section, \n",
    "    chunk_size=chunk_size, \n",
    "    chunk_overlap=chunk_overlap), sections_data))"
   ]
  },
  {
   "cell_type": "code",
   "execution_count": 56,
   "metadata": {},
   "outputs": [
    {
     "name": "stdout",
     "output_type": "stream",
     "text": [
      "34 chunks\n",
      "Chunk 0: [{'text': \"1.4.18.3\\n\\n- 发布时间：2023.07.04\\n- 镜像：reg.docker.alibaba-inc.com/antfin_datatech_share/new_ray_image_prod:20230718100457-1.4.18.3-0a6d789a\\n- 公共试用集群：[ray-public-em14-gray](https://antc.alipay.com/raycloud/cluster/detail/186000185)（提供给大家测试使用，可以随意提交，但是不要发正式的作业）。\\n- Maven依赖：\\n```xml\\n<dependency>\\n  <groupId>io.ant-ray</groupId>\\n  <artifactId>ray-api</artifactId>\\n  <version>1.4.18.3</version>\\n</dependency>\\n<dependency>\\n  <groupId>io.ant-ray</groupId>\\n  <artifactId>ray-runtime</artifactId>\\n  <version>1.4.18.3</version>\\n</dependency>\\n```\\n\\n- pip\\n```\\npip install -i https://artifacts.antgroup-inc.cn/simple/ 'ant-ray==1.4.18.3'\\n```\\n\\ncpp:\\n```\\nhttp://raylet.cn-hangzhou-alipay-b.oss-cdn.aliyun-inc.com/ci/ant-ray-cpp-9d60b4536f6e9fe57b31cdd3a3813d011fbae35489ddcbd5353b8583677ff65e.zip\\nsha256: 9d60b4536f6e9fe57b31cdd3a3813d011fbae35489ddcbd5353b8583677ff65e\\nroot_dir_name: ray-1.4.18.3\\n```\\n\\n- Git tag：ant-ray-1.4.18.3\\n- Git commit: 0a6d789a32b26eb1d0d3f4c8b77e5be10df39fb4\\n## Release notes\\n### BUG Fixes\\n\\n- 被强制踢出框架集群的节点重启失效导致的worker泄漏问题\\n- 兼容4.0版本的redis\\n- 暂时关闭raylet oom killer\", 'source': '/Users/paer/Documents/work/codes/RAG_ray/1.4.x.md'}]\n",
      "Chunk 1: [{'text': \"1.4.18.2\\n\\n- 发布时间：2023.07.04\\n- 镜像：reg.docker.alibaba-inc.com/antfin_datatech_share/new_ray_image_prod:20230704212350-1.4.18.2-3a934278\\n- 公共试用集群：[ray-public-em14-gray](https://antc.alipay.com/raycloud/cluster/detail/186000185)（提供给大家测试使用，可以随意提交，但是不要发正式的作业）。\\n- Maven依赖：\\n```xml\\n<dependency>\\n  <groupId>io.ant-ray</groupId>\\n  <artifactId>ray-api</artifactId>\\n  <version>1.4.18.2</version>\\n</dependency>\\n<dependency>\\n  <groupId>io.ant-ray</groupId>\\n  <artifactId>ray-runtime</artifactId>\\n  <version>1.4.18.2</version>\\n</dependency>\\n```\\n\\n- pip\\n```\\npip install -i https://artifacts.antgroup-inc.cn/simple/ 'ant-ray==1.4.18.2'\\n```\\n\\ncpp:\\n```\\nhttp://raylet.cn-hangzhou-alipay-b.oss-cdn.aliyun-inc.com/ci/ant-ray-cpp-be0e6064786c0b37faa37c68b2542b10b2e5674baa1d873aa368a803940ea806.zip\\nsha256: be0e6064786c0b37faa37c68b2542b10b2e5674baa1d873aa368a803940ea806\\nroot_dir_name: ray-1.4.18.2\\n```\\n\\n- Git tag：ant-ray-1.4.18.2\\n- Git commit: 3a93427880a608261caaa7afa3ee1ceb42b68dd7\\n## Release notes\\n### BUG Fixes\\n\\n- C++ Worker libray_api.so放开所有符号，临时解决视频openssl符号冲突问题\\n- 设置joblib依赖版本，解决CI UT问题\", 'source': '/Users/paer/Documents/work/codes/RAG_ray/1.4.x.md'}]\n",
      "Chunk 2: [{'text': \"1.4.18.1\\n\\n- 发布时间：2023.06.30\\n- 镜像：reg.docker.alibaba-inc.com/antfin_datatech_share/new_ray_image_prod:20230629112820-1.4.18.1-767aed66\\n- 公共试用集群：[ray-public-em14-gray](https://antc.alipay.com/raycloud/cluster/detail/186000185)（提供给大家测试使用，可以随意提交，但是不要发正式的作业）。\\n- Maven依赖：\\n```xml\\n<dependency>\\n  <groupId>io.ant-ray</groupId>\\n  <artifactId>ray-api</artifactId>\\n  <version>1.4.18.1</version>\\n</dependency>\\n<dependency>\\n  <groupId>io.ant-ray</groupId>\\n  <artifactId>ray-runtime</artifactId>\\n  <version>1.4.18.1</version>\\n</dependency>\\n```\\n\\n- pip\\n```\\npip install -i https://artifacts.antgroup-inc.cn/simple/ 'ant-ray==1.4.18.1'\\n```\\n\\ncpp:\\n```\\nhttp://raylet.cn-hangzhou-alipay-b.oss-cdn.aliyun-inc.com/ci/ant-ray-cpp-40257a7a53857885d0e20bebc292ddececd65cdbb82e2a693c9055204059f747.zip\\nsha256: 40257a7a53857885d0e20bebc292ddececd65cdbb82e2a693c9055204059f747\\nroot_dir_name: ray-1.4.18.1\\n```\\n\\n- Git tag：ant-ray-1.4.18.1\\n- Git commit: 767aed66ab729c05d26768307a16d89988a9853d\\n## Release notes\\n### 优化\\n\\n- 【runtime_env】升级 conmon 和 podman binary，优化 RuntimEnv(podman 容器) 回收时的进程泄露问题\", 'source': '/Users/paer/Documents/work/codes/RAG_ray/1.4.x.md'}]\n",
      "Chunk 3: [{'text': \"1.4.18\\n\\n- 发布时间：\\n- 镜像：reg.docker.alibaba-inc.com/antfin_datatech_share/new_ray_image_prod:20230518104725-1.4.18-e0167eb4\\n- 公共试用集群：[ray-public-em14-gray](https://antc.alipay.com/raycloud/cluster/detail/186000185)（提供给大家测试使用，可以随意提交，但是不要发正式的作业）。\\n- Maven依赖：\\n```xml\\n<dependency>\\n  <groupId>io.ant-ray</groupId>\\n  <artifactId>ray-api</artifactId>\\n  <version>1.4.18</version>\\n</dependency>\\n<dependency>\\n  <groupId>io.ant-ray</groupId>\\n  <artifactId>ray-runtime</artifactId>\\n  <version>1.4.18</version>\\n</dependency>\\n```\\n\\n- pip\\n```\\npip install -i https://artifacts.antgroup-inc.cn/simple/ 'ant-ray==1.4.18'\\n```\\n\\ncpp:\\n```\\nhttp://raylet.cn-hangzhou-alipay-b.oss-cdn.aliyun-inc.com/ci/ant-ray-cpp-445cdf8f29d7b7acac0671feedcdccd37ab06463f2e6625ca981cffec386b2d8.zip\\nsha256: 445cdf8f29d7b7acac0671feedcdccd37ab06463f2e6625ca981cffec386b2d8\\nroot_dir_name: ray-1.4.18\\n```\\n\\n- Git tag：ant-ray-1.4.18\\n- Git commit: e0167eb4120dc95eab1ba059ebd7ce64c55f124a\\n## Release notes\\n### 新功能\\n\\n- 【runtime env】Ray去依赖，去掉sklean，tensorboard等无关依赖（可能对应用兼容性有影响）\\n- 【runtime env】Ray集群镜像中的Ray whl包名字切到ant-ray，并且做唯一版本号\\n- 【runtime env】支持worker in container新的运行方式：在用户镜像里安装Ray，选项为“_install_ray”\\n- 【event】支持worker启动异常日志透出到event\\n- 【core】raylet oom killer的内存信息收集方式仿照earlyoom; 现在默认打开\\n- 【无感迁移】支持用户订阅其他job状态\\n- 【dashboard】API server的框架集群查询接口支持显示是否开启 job quota limit\\n### 优化\\n\\n- 【core】引入Pull based heath check功能\\n- 【core】禁止向默认的框架集群提交作业\\n- 【core】更新oss密钥，修复安全漏洞\\n- 【core】Raylet oom killer支持在线更新配置\\n- 【core】更新 dfget 版本\\n- 【core】raylet和gcs断连后降低查询tbase的频率\\n- 【core】关闭froce_grpc_ipv4，解决https下载问题\\n- 【object store】raylet 批量上报 object location\\n- 【dashboard】框架集群页面展示框架集群内节点数量\\n- 【dashboard】为worker页面过滤idle worker添加开关\\n- 【dashboard】优化dashboard GC，减少内存占用\\n- 【java】增加创建actor的最大重试次数\\n### Bug Fixes\\n\\n- 【dashboard】修复日志链接切换在worker页面中不存在的bug\\n- 【dashboard】修复cpp依赖不显示的问题\\n- 【core】修复raylet oom killer在线更新配置及event显示相关的问题\\n- 【object store】修复 object 重传的相关 bug\\n- 【java】解决driver command重复增长的问题\", 'source': '/Users/paer/Documents/work/codes/RAG_ray/1.4.x.md'}]\n",
      "Chunk 4: [{'text': \"1.4.17.5\\n\\n- 发布时间：2023.05.11\\n- 镜像：reg.docker.alibaba-inc.com/antfin_datatech_share/new_ray_image_prod:20230510145804-1.4.17.5-fff7c599\\n- AntC集群包版本：ray-1.4.17.5\\n- 公共试用集群：[ray-public-em14-gray](https://antc.alipay.com/raycloud/cluster/detail/186000185)（提供给大家测试使用，可以随意提交，但是不要发正式的作业）。\\n- Maven依赖：\\n```xml\\n<dependency>\\n  <groupId>io.ant-ray</groupId>\\n  <artifactId>ray-api</artifactId>\\n  <version>1.4.17.5</version>\\n</dependency>\\n<dependency>\\n  <groupId>io.ant-ray</groupId>\\n  <artifactId>ray-runtime</artifactId>\\n  <version>1.4.17.5</version>\\n</dependency>\\n```\\n\\n- pip\\n```\\npip install -i https://artifacts.antgroup-inc.cn/simple/ 'ant-ray==1.4.17.5'\\n```\\n\\ncpp:\\n```\\nhttp://raylet.cn-hangzhou-alipay-b.oss-cdn.aliyun-inc.com/ci/ant-ray-cpp-d735d893c46005b6a6c05360607e589464b0caefcadf8463ec66bf94229e5677.zip\\nsha256: d735d893c46005b6a6c05360607e589464b0caefcadf8463ec66bf94229e5677\\nroot_dir_name: ray-1.4.17.5\\n```\\n\\n- Git tag：ant-ray-1.4.17.5\\n- Git commit: fff7c599012099f4290f1e23c05bab8d8ef006fe\\n## Release notes\\n### Bug Fixes\\n\\n- 【Core】修复cancelled worker lease重复reply导致的gcs crash问题\\n- 【Core】修复框架集群分片调度在raylet FO时没有被触发的问题\\n- 【Core】修复用户Driver代码Hang住时Cancel作业出现Driver进程泄漏的问题\\n- 【Dashboard】修复日志轮转空行导致的event漏扫\\n- 【Dashboard】作业worker日志链接修复\\n- 【Dashboard】Dashboard job删除时垃圾回收，减少内存占用\\n- 【安全】修复log4j安全漏洞的问题，使用蚂蚁制定的nolookup版本\", 'source': '/Users/paer/Documents/work/codes/RAG_ray/1.4.x.md'}]\n"
     ]
    }
   ],
   "source": [
    "print(f\"{len(chunks_data)} chunks\")\n",
    "for i in range(5):\n",
    "    print(f\"Chunk {i}: {chunks_data[i]}\")\n"
   ]
  },
  {
   "cell_type": "code",
   "execution_count": 44,
   "metadata": {},
   "outputs": [],
   "source": [
    "from langchain.embeddings import OpenAIEmbeddings\n",
    "from langchain.embeddings.huggingface import HuggingFaceEmbeddings\n",
    "from langchain.embeddings.fake import FakeEmbeddings\n",
    "import numpy as np"
   ]
  },
  {
   "cell_type": "code",
   "execution_count": 49,
   "metadata": {},
   "outputs": [],
   "source": [
    "def get_embedding_model(embedding_model_name, model_kwargs, encode_kwargs):\n",
    "    if embedding_model_name == \"text-embedding-ada-002\":\n",
    "        embedding_model = OpenAIEmbeddings(\n",
    "            model=embedding_model_name,\n",
    "            openai_api_base=os.environ[\"OPENAI_API_BASE\"],\n",
    "            openai_api_key=os.environ[\"OPENAI_API_KEY\"])\n",
    "    else:\n",
    "        # model_name = \"thenlper/gte-base\"\n",
    "        # model_kwargs = {'device': 'cpu'}\n",
    "        # encode_kwargs = {'normalize_embeddings': False}\n",
    "        embedding_model = FakeEmbeddings(\n",
    "                                size=768,\n",
    "                              model_name=embedding_model_name,\n",
    "                              model_kwargs=model_kwargs,\n",
    "                              encode_kwargs=encode_kwargs\n",
    "                          )\n",
    "    return embedding_model"
   ]
  },
  {
   "cell_type": "code",
   "execution_count": 66,
   "metadata": {},
   "outputs": [],
   "source": [
    "class EmbedChunks:\n",
    "    def __init__(self, model_name):\n",
    "        self.embedding_model = get_embedding_model(\n",
    "            embedding_model_name=model_name,\n",
    "            model_kwargs={\"device\": \"cpu\"},\n",
    "            encode_kwargs={\"device\": \"cpu\", \"batch_size\": 100})\n",
    "    def __call__(self, batch):\n",
    "        if (len(batch)>0):\n",
    "            embeddings = self.embedding_model.embed_documents(batch[0][\"text\"])\n",
    "            return {\"text\": batch[0][\"text\"], \"source\": batch[0][\"source\"], \"embeddings\": embeddings}"
   ]
  },
  {
   "cell_type": "code",
   "execution_count": 67,
   "metadata": {},
   "outputs": [],
   "source": [
    "# Embed chunks\n",
    "embedding_model_name = \"thenlper/gte-base\"\n",
    "embedder = EmbedChunks(embedding_model_name)\n",
    "embedded_chunks = list(map(embedder, chunks_data))\n"
   ]
  },
  {
   "cell_type": "code",
   "execution_count": 72,
   "metadata": {},
   "outputs": [
    {
     "name": "stdout",
     "output_type": "stream",
     "text": [
      "embedding size: 1064\n",
      "1.4.18.3\n",
      "\n",
      "- 发布时间：2023.07.04\n",
      "- 镜像：reg.docker.alibaba-inc.com/antfin_datatech_share/new_ray_image_prod:20230718100457-1.4.18.3-0a6d789a\n",
      "- 公共试用集群：[ray-public-em14-gray](https://antc.alipay.com/raycloud/cluster/detail/186000185)（提供给大家测试使用，可以随意提交，但是不要发正式的作业）。\n",
      "- Maven依赖：\n",
      "```xml\n",
      "<dependency>\n",
      "  <groupId>io.ant-ray</groupId>\n",
      "  <artifactId>ray-api</artifactId>\n",
      "  <version>1.4.18.3</version>\n",
      "</dependency>\n",
      "<dependency>\n",
      "  <groupId>io.ant-ray</groupId>\n",
      "  <artifactId>ray-runtime</artifactId>\n",
      "  <version>1.4.18.3</version>\n",
      "</dependency>\n",
      "```\n",
      "\n",
      "- pip\n",
      "```\n",
      "pip install -i https://artifacts.antgroup-inc.cn/simple/ 'ant-ray==1.4.18.3'\n",
      "```\n",
      "\n",
      "cpp:\n",
      "```\n",
      "http://raylet.cn-hangzhou-alipay-b.oss-cdn.aliyun-inc.com/ci/ant-ray-cpp-9d60b4536f6e9fe57b31cdd3a3813d011fbae35489ddcbd5353b8583677ff65e.zip\n",
      "sha256: 9d60b4536f6e9fe57b31cdd3a3813d011fbae35489ddcbd5353b8583677ff65e\n",
      "root_dir_name: ray-1.4.18.3\n",
      "```\n",
      "\n",
      "- Git tag：ant-ray-1.4.18.3\n",
      "- Git commit: 0a6d789a32b26eb1d0d3f4c8b77e5be10df39fb4\n",
      "## Release notes\n",
      "### BUG Fixes\n",
      "\n",
      "- 被强制踢出框架集群的节点重启失效导致的worker泄漏问题\n",
      "- 兼容4.0版本的redis\n",
      "- 暂时关闭raylet oom killer\n"
     ]
    }
   ],
   "source": [
    "sample = embedded_chunks[0]\n",
    "print (\"embedding size:\", len(sample[\"embeddings\"]))\n",
    "print (sample[\"text\"])"
   ]
  },
  {
   "cell_type": "code",
   "execution_count": 73,
   "metadata": {},
   "outputs": [],
   "source": [
    "import psycopg\n",
    "from pgvector.psycopg import register_vector\n",
    "# os.environ[\"MIGRATION_FP\"] = f\"../migrations/vector-{EMBEDDING_DIMENSIONS[embedding_model_name]}.sql\"\n",
    "# os.environ[\"SQL_DUMP_FP\"] = f\"{EFS_DIR}/sql_dumps/{embedding_model_name.split('/')[-1]}_{chunk_size}_{chunk_overlap}.sql\"\n",
    "# print(os.environ[\"MIGRATION_FP\"])\n",
    "# print(os.environ[\"SQL_DUMP_FP\"])"
   ]
  },
  {
   "cell_type": "code",
   "execution_count": 76,
   "metadata": {},
   "outputs": [],
   "source": [
    "os.environ[\"DB_CONNECTION_STRING\"] = \"dbname=paer\"\n",
    "class StoreResults:\n",
    "    def __call__(self, batch):\n",
    "        with psycopg.connect(\"dbname=paer\") as conn:\n",
    "            register_vector(conn)\n",
    "            with conn.cursor() as cur:\n",
    "                if batch is not None:\n",
    "                    for text, source, embedding in zip(batch[\"text\"], batch[\"source\"], batch[\"embeddings\"]):\n",
    "                        cur.execute(\"INSERT INTO document (text, source, embedding) VALUES (%s, %s, %s)\", (text, source, embedding,),)\n",
    "        return {}"
   ]
  },
  {
   "cell_type": "code",
   "execution_count": 78,
   "metadata": {},
   "outputs": [],
   "source": [
    "# Index data\n",
    "store_processer = StoreResults()\n",
    "mp = list(map(store_processer, embedded_chunks))"
   ]
  },
  {
   "cell_type": "code",
   "execution_count": 79,
   "metadata": {},
   "outputs": [],
   "source": [
    "def semantic_search(query, embedding_model, k):\n",
    "    embedding = np.array(embedding_model.embed_query(query))\n",
    "    with psycopg.connect(os.environ[\"DB_CONNECTION_STRING\"]) as conn:\n",
    "        register_vector(conn)\n",
    "        with conn.cursor() as cur:\n",
    "            cur.execute(\"SELECT * FROM document ORDER BY embedding <=> %s LIMIT %s\", (embedding, k),)\n",
    "            rows = cur.fetchall()\n",
    "            semantic_context = [{\"id\": row[0], \"text\": row[1], \"source\": row[2]} for row in rows]\n",
    "    return semantic_context"
   ]
  },
  {
   "cell_type": "code",
   "execution_count": 81,
   "metadata": {},
   "outputs": [
    {
     "data": {
      "text/plain": [
       "[{'id': 3031, 'text': '.', 'source': '1'},\n",
       " {'id': 1512, 'text': '.', 'source': '1'},\n",
       " {'id': 2512, 'text': '发', 'source': 'D'},\n",
       " {'id': 307, 'text': '发', 'source': 'D'},\n",
       " {'id': 993, 'text': '发', 'source': 'D'}]"
      ]
     },
     "execution_count": 81,
     "metadata": {},
     "output_type": "execute_result"
    }
   ],
   "source": [
    "query = \"1.4.18.2版本的镜像？\"\n",
    "\n",
    "embedding_model = get_embedding_model(\n",
    "            embedding_model_name=embedding_model_name,\n",
    "            model_kwargs={\"device\": \"cpu\"},\n",
    "            encode_kwargs={\"device\": \"cpu\", \"batch_size\": 100})\n",
    "\n",
    "semantic_search(query, embedding_model, 5)"
   ]
  },
  {
   "cell_type": "code",
   "execution_count": 82,
   "metadata": {},
   "outputs": [
    {
     "data": {
      "text/plain": [
       "'1.4.18.2版本的镜像是reg.docker.alibaba-inc.com/antfin_datatech_share/new_ray_image_prod:20230704212350-1.4.18.2-3a934278。'"
      ]
     },
     "execution_count": 82,
     "metadata": {},
     "output_type": "execute_result"
    }
   ],
   "source": [
    "import requests\n",
    "import json\n",
    "\n",
    "def prompt_engine_chat_completion(\n",
    "  model = \"gpt-3.5-turbo-16k\",\n",
    "  system_content=\"\", \n",
    "  assistant_content=\"\", \n",
    "  user_content=\"\",\n",
    "):\n",
    "  url = \"https://promptsengine.alipay.com/api/prompt/predict\"\n",
    "  headers = {\"Content-Type\": \"application/json; charset=utf-8\"}\n",
    "  # 四尔那边提供的scene_id, 仅供demo调用，切勿频繁调用。\n",
    "  scene_id = \"RAY_DEMO_ON_AIGC\"\n",
    "  model_config = {\"open_ai_model_config\": {\"model\": model, \"max_tokens\": 10000}}\n",
    "  prompts = []\n",
    "  if system_content:\n",
    "    prompts.append({\n",
    "        \"prompt_template\":{\"template\": system_content},\n",
    "        \"role\":\"system\"\n",
    "    })\n",
    "  if assistant_content:\n",
    "    prompts.append({\n",
    "        \"prompt_template\":{\"template\": assistant_content},\n",
    "        \"role\":\"assistant\"\n",
    "    })\n",
    "  if user_content:\n",
    "    prompts.append({\n",
    "      \"prompt_template\":{\"template\": user_content},\n",
    "      \"role\":\"user\"\n",
    "    })\n",
    "  data = {\n",
    "          \"context\": {\"scene_id\":scene_id},\n",
    "          \"prompt_config\":prompts,\n",
    "          \"model_config\": model_config,\n",
    "          \"extra_config\":{\"relation_id\":\"1000\"}\n",
    "          }\n",
    "  response = requests.post(url, data=json.dumps(data), headers=headers)\n",
    "  reply = response.json()\n",
    "  return reply[\"data\"][\"open_ai_result\"][\"model_answer\"][\"model_result\"][0][\"content\"]\n",
    "\n",
    "prompt_engine_chat_completion(\n",
    "  model=\"gpt-3.5-turbo-16k\", \n",
    "  system_content=\"Answer the query using the context provided. Be succinct.\",\n",
    "  user_content=f\"query: {query}, context: {context}\"\n",
    "  )"
   ]
  },
  {
   "cell_type": "code",
   "execution_count": 83,
   "metadata": {},
   "outputs": [
    {
     "data": {
      "text/plain": [
       "'很抱歉，我无法提供特定版本的镜像。请您在相关软件或平台的官方网站或镜像站点上查找1.4.18.2版本的镜像。'"
      ]
     },
     "execution_count": 83,
     "metadata": {},
     "output_type": "execute_result"
    }
   ],
   "source": [
    "query = \"1.4.18.2版本的镜像？\"\n",
    "context = \"\"\n",
    "prompt_engine_chat_completion(\n",
    "  model=\"gpt-3.5-turbo-16k\", \n",
    "  system_content=\"\",\n",
    "  user_content=f\"query: {query}, context: {context}\"\n",
    "  )"
   ]
  },
  {
   "cell_type": "code",
   "execution_count": 85,
   "metadata": {},
   "outputs": [],
   "source": [
    "from rag.utils import get_num_tokens, trim\n",
    "from rag.config import EMBEDDING_DIMENSIONS, MAX_CONTEXT_LENGTHS\n",
    "class QueryAgent:\n",
    "    def __init__(self, embedding_model_name=\"thenlper/gte-base\",\n",
    "                 llm=\"meta-llama/Llama-2-70b-chat-hf\", temperature=0.0, \n",
    "                 max_context_length=4096, system_content=\"\", assistant_content=\"\"):\n",
    "        \n",
    "        # Embedding model\n",
    "        self.embedding_model = get_embedding_model(\n",
    "            embedding_model_name=embedding_model_name, \n",
    "            model_kwargs={\"device\": \"cpu\"}, \n",
    "            encode_kwargs={\"device\": \"cpu\", \"batch_size\": 100})\n",
    "        \n",
    "        # Context length (restrict input length to 50% of total context length)\n",
    "        max_context_length = int(0.5*max_context_length)\n",
    "        \n",
    "        # LLM\n",
    "        self.llm = llm\n",
    "        self.temperature = temperature\n",
    "        self.context_length = max_context_length - get_num_tokens(system_content + assistant_content)\n",
    "        self.system_content = system_content\n",
    "        self.assistant_content = assistant_content\n",
    "\n",
    "    def __call__(self, query, num_chunks=5, stream=True):\n",
    "        # Get sources and context\n",
    "        context_results = semantic_search(\n",
    "            query=query, \n",
    "            embedding_model=self.embedding_model, \n",
    "            k=num_chunks)\n",
    "            \n",
    "        # Generate response\n",
    "        context = [item[\"text\"] for item in context_results]\n",
    "        sources = [item[\"source\"] for item in context_results]\n",
    "        user_content = f\"query: {query}, context: {context}\"\n",
    "        print(user_content)\n",
    "        answer = prompt_engine_chat_completion(\n",
    "            model=self.llm,\n",
    "            system_content=self.system_content,\n",
    "            assistant_content=self.assistant_content,\n",
    "            user_content=trim(user_content, self.context_length))\n",
    "\n",
    "        # Result\n",
    "        result = {\n",
    "            \"question\": query,\n",
    "            \"sources\": sources,\n",
    "            \"answer\": answer,\n",
    "            \"llm\": self.llm,\n",
    "        }\n",
    "        return result"
   ]
  },
  {
   "cell_type": "code",
   "execution_count": 86,
   "metadata": {},
   "outputs": [],
   "source": [
    "llm = \"gpt-3.5-turbo-16k\""
   ]
  },
  {
   "cell_type": "code",
   "execution_count": 87,
   "metadata": {},
   "outputs": [
    {
     "name": "stdout",
     "output_type": "stream",
     "text": [
      "query: 1.4.18.2版本的镜像？, context: ['0', '0', 'k', 'k', '.']\n"
     ]
    },
    {
     "data": {
      "text/plain": [
       "{'question': '1.4.18.2版本的镜像？',\n",
       " 'sources': ['s', 's', 'r', 'r', 'U'],\n",
       " 'answer': '没有提供足够的上下文来回答这个问题。请提供更多的信息。',\n",
       " 'llm': 'gpt-3.5-turbo-16k'}"
      ]
     },
     "execution_count": 87,
     "metadata": {},
     "output_type": "execute_result"
    }
   ],
   "source": [
    "query = \"1.4.18.2版本的镜像？\"\n",
    "system_content = \"Answer the query using the context provided. Be succinct.\"\n",
    "agent = QueryAgent(\n",
    "    embedding_model_name=embedding_model_name,\n",
    "    llm=llm,\n",
    "    max_context_length=MAX_CONTEXT_LENGTHS[llm],\n",
    "    system_content=system_content)\n",
    "result = agent(query=query, stream=False)\n",
    "result\n",
    "# print(\"\\n\\n\", json.dumps(result, indent=2))\n"
   ]
  },
  {
   "cell_type": "code",
   "execution_count": 66,
   "metadata": {},
   "outputs": [
    {
     "data": {
      "text/plain": [
       "{'question': '1.4.18.2版本的镜像？',\n",
       " 'sources': ['/Users/larry/Desktop/data/ray/1.4.x.md',\n",
       "  '/Users/larry/Desktop/data/ray/1.4.x.md',\n",
       "  '/Users/larry/Desktop/data/ray/1.4.x.md',\n",
       "  '/Users/larry/Desktop/data/ray/1.4.x.md',\n",
       "  '/Users/larry/Desktop/data/ray/1.4.x.md'],\n",
       " 'answer': '1.4.18.2版本的镜像是reg.docker.alibaba-inc.com/antfin_datatech_share/new_ray_image_prod:20230704212350-1.4.18.2-3a934278。',\n",
       " 'llm': 'gpt-3.5-turbo-16k'}"
      ]
     },
     "execution_count": 66,
     "metadata": {},
     "output_type": "execute_result"
    }
   ],
   "source": [
    "result"
   ]
  },
  {
   "cell_type": "code",
   "execution_count": 91,
   "metadata": {},
   "outputs": [
    {
     "name": "stdout",
     "output_type": "stream",
     "text": [
      "query: 1.4.18版本的新功能有哪些？, context: [\"1.4.18\\n\\n- 发布时间：\\n- 镜像：reg.docker.alibaba-inc.com/antfin_datatech_share/new_ray_image_prod:20230518104725-1.4.18-e0167eb4\\n- 公共试用集群：[ray-public-em14-gray](https://antc.alipay.com/raycloud/cluster/detail/186000185)（提供给大家测试使用，可以随意提交，但是不要发正式的作业）。\\n- Maven依赖：\\n```xml\\n<dependency>\\n  <groupId>io.ant-ray</groupId>\\n  <artifactId>ray-api</artifactId>\\n  <version>1.4.18</version>\\n</dependency>\\n<dependency>\\n  <groupId>io.ant-ray</groupId>\\n  <artifactId>ray-runtime</artifactId>\\n  <version>1.4.18</version>\\n</dependency>\\n```\\n\\n- pip\\n```\\npip install -i https://artifacts.antgroup-inc.cn/simple/ 'ant-ray==1.4.18'\\n```\\n\\ncpp:\\n```\\nhttp://raylet.cn-hangzhou-alipay-b.oss-cdn.aliyun-inc.com/ci/ant-ray-cpp-445cdf8f29d7b7acac0671feedcdccd37ab06463f2e6625ca981cffec386b2d8.zip\\nsha256: 445cdf8f29d7b7acac0671feedcdccd37ab06463f2e6625ca981cffec386b2d8\\nroot_dir_name: ray-1.4.18\\n```\\n\\n- Git tag：ant-ray-1.4.18\\n- Git commit: e0167eb4120dc95eab1ba059ebd7ce64c55f124a\\n## Release notes\\n### 新功能\\n\\n- 【runtime env】Ray去依赖，去掉sklean，tensorboard等无关依赖（可能对应用兼容性有影响）\\n- 【runtime env】Ray集群镜像中的Ray whl包名字切到ant-ray，并且做唯一版本号\\n- 【runtime env】支持worker in container新的运行方式：在用户镜像里安装Ray，选项为“_install_ray”\\n- 【event】支持worker启动异常日志透出到event\\n- 【core】raylet oom killer的内存信息收集方式仿照earlyoom; 现在默认打开\\n- 【无感迁移】支持用户订阅其他job状态\\n- 【dashboard】API server的框架集群查询接口支持显示是否开启 job quota limit\\n### 优化\\n\\n- 【core】引入Pull based heath check功能\\n- 【core】禁止向默认的框架集群提交作业\\n- 【core】更新oss密钥，修复安全漏洞\\n- 【core】Raylet oom killer支持在线更新配置\\n- 【core】更新 dfget 版本\\n- 【core】raylet和gcs断连后降低查询tbase的频率\\n- 【core】关闭froce_grpc_ipv4，解决https下载问题\\n- 【object store】raylet 批量上报 object location\\n- 【dashboard】框架集群页面展示框架集群内节点数量\\n- 【dashboard】为worker页面过滤idle worker添加开关\\n- 【dashboard】优化dashboard GC，减少内存占用\\n- 【java】增加创建actor的最大重试次数\\n### Bug Fixes\\n\\n- 【dashboard】修复日志链接切换在worker页面中不存在的bug\\n- 【dashboard】修复cpp依赖不显示的问题\\n- 【core】修复raylet oom killer在线更新配置及event显示相关的问题\\n- 【object store】修复 object 重传的相关 bug\\n- 【java】解决driver command重复增长的问题\", \"1.4.18.1\\n\\n- 发布时间：2023.06.30\\n- 镜像：reg.docker.alibaba-inc.com/antfin_datatech_share/new_ray_image_prod:20230629112820-1.4.18.1-767aed66\\n- 公共试用集群：[ray-public-em14-gray](https://antc.alipay.com/raycloud/cluster/detail/186000185)（提供给大家测试使用，可以随意提交，但是不要发正式的作业）。\\n- Maven依赖：\\n```xml\\n<dependency>\\n  <groupId>io.ant-ray</groupId>\\n  <artifactId>ray-api</artifactId>\\n  <version>1.4.18.1</version>\\n</dependency>\\n<dependency>\\n  <groupId>io.ant-ray</groupId>\\n  <artifactId>ray-runtime</artifactId>\\n  <version>1.4.18.1</version>\\n</dependency>\\n```\\n\\n- pip\\n```\\npip install -i https://artifacts.antgroup-inc.cn/simple/ 'ant-ray==1.4.18.1'\\n```\\n\\ncpp:\\n```\\nhttp://raylet.cn-hangzhou-alipay-b.oss-cdn.aliyun-inc.com/ci/ant-ray-cpp-40257a7a53857885d0e20bebc292ddececd65cdbb82e2a693c9055204059f747.zip\\nsha256: 40257a7a53857885d0e20bebc292ddececd65cdbb82e2a693c9055204059f747\\nroot_dir_name: ray-1.4.18.1\\n```\\n\\n- Git tag：ant-ray-1.4.18.1\\n- Git commit: 767aed66ab729c05d26768307a16d89988a9853d\\n## Release notes\\n### 优化\\n\\n- 【runtime_env】升级 conmon 和 podman binary，优化 RuntimEnv(podman 容器) 回收时的进程泄露问题\", \"1.4.18.2\\n\\n- 发布时间：2023.07.04\\n- 镜像：reg.docker.alibaba-inc.com/antfin_datatech_share/new_ray_image_prod:20230704212350-1.4.18.2-3a934278\\n- 公共试用集群：[ray-public-em14-gray](https://antc.alipay.com/raycloud/cluster/detail/186000185)（提供给大家测试使用，可以随意提交，但是不要发正式的作业）。\\n- Maven依赖：\\n```xml\\n<dependency>\\n  <groupId>io.ant-ray</groupId>\\n  <artifactId>ray-api</artifactId>\\n  <version>1.4.18.2</version>\\n</dependency>\\n<dependency>\\n  <groupId>io.ant-ray</groupId>\\n  <artifactId>ray-runtime</artifactId>\\n  <version>1.4.18.2</version>\\n</dependency>\\n```\\n\\n- pip\\n```\\npip install -i https://artifacts.antgroup-inc.cn/simple/ 'ant-ray==1.4.18.2'\\n```\\n\\ncpp:\\n```\\nhttp://raylet.cn-hangzhou-alipay-b.oss-cdn.aliyun-inc.com/ci/ant-ray-cpp-be0e6064786c0b37faa37c68b2542b10b2e5674baa1d873aa368a803940ea806.zip\\nsha256: be0e6064786c0b37faa37c68b2542b10b2e5674baa1d873aa368a803940ea806\\nroot_dir_name: ray-1.4.18.2\\n```\\n\\n- Git tag：ant-ray-1.4.18.2\\n- Git commit: 3a93427880a608261caaa7afa3ee1ceb42b68dd7\\n## Release notes\\n### BUG Fixes\\n\\n- C++ Worker libray_api.so放开所有符号，临时解决视频openssl符号冲突问题\\n- 设置joblib依赖版本，解决CI UT问题\", \"1.4.18.3\\n\\n- 发布时间：2023.07.04\\n- 镜像：reg.docker.alibaba-inc.com/antfin_datatech_share/new_ray_image_prod:20230718100457-1.4.18.3-0a6d789a\\n- 公共试用集群：[ray-public-em14-gray](https://antc.alipay.com/raycloud/cluster/detail/186000185)（提供给大家测试使用，可以随意提交，但是不要发正式的作业）。\\n- Maven依赖：\\n```xml\\n<dependency>\\n  <groupId>io.ant-ray</groupId>\\n  <artifactId>ray-api</artifactId>\\n  <version>1.4.18.3</version>\\n</dependency>\\n<dependency>\\n  <groupId>io.ant-ray</groupId>\\n  <artifactId>ray-runtime</artifactId>\\n  <version>1.4.18.3</version>\\n</dependency>\\n```\\n\\n- pip\\n```\\npip install -i https://artifacts.antgroup-inc.cn/simple/ 'ant-ray==1.4.18.3'\\n```\\n\\ncpp:\\n```\\nhttp://raylet.cn-hangzhou-alipay-b.oss-cdn.aliyun-inc.com/ci/ant-ray-cpp-9d60b4536f6e9fe57b31cdd3a3813d011fbae35489ddcbd5353b8583677ff65e.zip\\nsha256: 9d60b4536f6e9fe57b31cdd3a3813d011fbae35489ddcbd5353b8583677ff65e\\nroot_dir_name: ray-1.4.18.3\\n```\\n\\n- Git tag：ant-ray-1.4.18.3\\n- Git commit: 0a6d789a32b26eb1d0d3f4c8b77e5be10df39fb4\\n## Release notes\\n### BUG Fixes\\n\\n- 被强制踢出框架集群的节点重启失效导致的worker泄漏问题\\n- 兼容4.0版本的redis\\n- 暂时关闭raylet oom killer\", \"1.4.8\\n\\n- 发布时间：2022.06.27\\n- 镜像：reg.docker.alibaba-inc.com/antfin_datatech_share/new_ray_image_prod:eaa171f8c25e5db875d08f675b66c1853df2ca10-62b86f3af80cd2063d343ddd\\n- AntC集群包版本：ray-1.4.8\\n- 公共试用集群：[ray-public-em14-gray](https://antc.alipay.com/raycloud/cluster/detail/186000185)（提供给大家测试使用，可以随意提交，但是不要发正式的作业）。\\n- Maven依赖：\\n```xml\\n<dependency>\\n  <groupId>io.ant-ray</groupId>\\n  <artifactId>ray-api</artifactId>\\n  <version>1.4.8</version>\\n</dependency>\\n<dependency>\\n  <groupId>io.ant-ray</groupId>\\n  <artifactId>ray-runtime</artifactId>\\n  <version>1.4.8</version>\\n</dependency>\\n```\\n\\n- Pip：\\n```bash\\npip install -i https://pypi.antfin-inc.com/simple/ 'ant-ray==1.4.8'\\n```\\n\\n- Cpp woker library:\\n```\\nhttp://ray-project.oss-cn-hangzhou-zmf.aliyuncs.com/releases/1.4.8/lib/libray_api.so\\n```\\n[\\n](http://ray-project.oss-cn-hangzhou-zmf.aliyuncs.com/releases/1.4.8/lib/libray_api.so)\\n\\n- Git tag：ant-ray-1.4.8\\n- Git commit: eaa171f8c25e5db875d08f675b66c1853df2ca10\\n## Release notes\\n### 新功能\\n\\n- CPP Worker 支持 Event API \\n- 支持填写 CPP Job 依赖的 so 文件\\n### 优化\\n\\n- JobAgent 会缓存 archive 依赖中解压出来的文件\\n### Bug Fixes\\n\\n- 修复 ray client 提交的 RemoteFunction 会被其他作业的 ImportThread 反序列化的 bug\\n- 修复高版本 protobuf 包导致 ray 无法运行的问题\"]\n"
     ]
    },
    {
     "data": {
      "text/plain": [
       "{'question': '1.4.18版本的新功能有哪些？',\n",
       " 'sources': ['/Users/larry/Desktop/data/ray/1.4.x.md',\n",
       "  '/Users/larry/Desktop/data/ray/1.4.x.md',\n",
       "  '/Users/larry/Desktop/data/ray/1.4.x.md',\n",
       "  '/Users/larry/Desktop/data/ray/1.4.x.md',\n",
       "  '/Users/larry/Desktop/data/ray/1.4.x.md'],\n",
       " 'answer': '1.4.18版本的新功能有：\\n- Ray去依赖，去掉sklean，tensorboard等无关依赖\\n- Ray集群镜像中的Ray whl包名字切到ant-ray，并且做唯一版本号\\n- 支持worker in container新的运行方式：在用户镜像里安装Ray，选项为“_install_ray”\\n- 支持worker启动异常日志透出到event\\n- raylet oom killer的内存信息收集方式仿照earlyoom; 现在默认打开\\n- 支持用户订阅其他job状态\\n- API server的框架集群查询接口支持显示是否开启 job quota limit\\n- 引入Pull based heath check功能\\n- 禁止向默认的框架集群提交作业\\n- 更新oss密钥，修复安全漏洞\\n- Raylet oom killer支持在线更新配置\\n- 更新 dfget 版本\\n- raylet和gcs断连后降低查询tbase的频率\\n- 关闭froce_grpc_ipv4，解决https下载问题\\n- raylet 批量上报 object location\\n- 框架集群页面展示框架集群内节点数量\\n- 为worker页面过滤idle worker添加开关\\n- 优化dashboard GC，减少内存占用\\n- 增加创建actor的最大重试次数',\n",
       " 'llm': 'gpt-3.5-turbo-16k'}"
      ]
     },
     "execution_count": 91,
     "metadata": {},
     "output_type": "execute_result"
    }
   ],
   "source": [
    "query = \"1.4.18版本的新功能有哪些？\"\n",
    "system_content = \"Answer the query using the context provided. Be succinct.\"\n",
    "agent = QueryAgent(\n",
    "    embedding_model_name=embedding_model_name,\n",
    "    llm=llm,\n",
    "    max_context_length=MAX_CONTEXT_LENGTHS[llm],\n",
    "    system_content=system_content)\n",
    "result = agent(query=query, stream=False)\n",
    "result"
   ]
  },
  {
   "cell_type": "code",
   "execution_count": 93,
   "metadata": {},
   "outputs": [
    {
     "name": "stdout",
     "output_type": "stream",
     "text": [
      "query: 1.4.18版本的新功能有哪些？不用包括优化的。, context: [\"1.4.18.1\\n\\n- 发布时间：2023.06.30\\n- 镜像：reg.docker.alibaba-inc.com/antfin_datatech_share/new_ray_image_prod:20230629112820-1.4.18.1-767aed66\\n- 公共试用集群：[ray-public-em14-gray](https://antc.alipay.com/raycloud/cluster/detail/186000185)（提供给大家测试使用，可以随意提交，但是不要发正式的作业）。\\n- Maven依赖：\\n```xml\\n<dependency>\\n  <groupId>io.ant-ray</groupId>\\n  <artifactId>ray-api</artifactId>\\n  <version>1.4.18.1</version>\\n</dependency>\\n<dependency>\\n  <groupId>io.ant-ray</groupId>\\n  <artifactId>ray-runtime</artifactId>\\n  <version>1.4.18.1</version>\\n</dependency>\\n```\\n\\n- pip\\n```\\npip install -i https://artifacts.antgroup-inc.cn/simple/ 'ant-ray==1.4.18.1'\\n```\\n\\ncpp:\\n```\\nhttp://raylet.cn-hangzhou-alipay-b.oss-cdn.aliyun-inc.com/ci/ant-ray-cpp-40257a7a53857885d0e20bebc292ddececd65cdbb82e2a693c9055204059f747.zip\\nsha256: 40257a7a53857885d0e20bebc292ddececd65cdbb82e2a693c9055204059f747\\nroot_dir_name: ray-1.4.18.1\\n```\\n\\n- Git tag：ant-ray-1.4.18.1\\n- Git commit: 767aed66ab729c05d26768307a16d89988a9853d\\n## Release notes\\n### 优化\\n\\n- 【runtime_env】升级 conmon 和 podman binary，优化 RuntimEnv(podman 容器) 回收时的进程泄露问题\", \"1.4.18\\n\\n- 发布时间：\\n- 镜像：reg.docker.alibaba-inc.com/antfin_datatech_share/new_ray_image_prod:20230518104725-1.4.18-e0167eb4\\n- 公共试用集群：[ray-public-em14-gray](https://antc.alipay.com/raycloud/cluster/detail/186000185)（提供给大家测试使用，可以随意提交，但是不要发正式的作业）。\\n- Maven依赖：\\n```xml\\n<dependency>\\n  <groupId>io.ant-ray</groupId>\\n  <artifactId>ray-api</artifactId>\\n  <version>1.4.18</version>\\n</dependency>\\n<dependency>\\n  <groupId>io.ant-ray</groupId>\\n  <artifactId>ray-runtime</artifactId>\\n  <version>1.4.18</version>\\n</dependency>\\n```\\n\\n- pip\\n```\\npip install -i https://artifacts.antgroup-inc.cn/simple/ 'ant-ray==1.4.18'\\n```\\n\\ncpp:\\n```\\nhttp://raylet.cn-hangzhou-alipay-b.oss-cdn.aliyun-inc.com/ci/ant-ray-cpp-445cdf8f29d7b7acac0671feedcdccd37ab06463f2e6625ca981cffec386b2d8.zip\\nsha256: 445cdf8f29d7b7acac0671feedcdccd37ab06463f2e6625ca981cffec386b2d8\\nroot_dir_name: ray-1.4.18\\n```\\n\\n- Git tag：ant-ray-1.4.18\\n- Git commit: e0167eb4120dc95eab1ba059ebd7ce64c55f124a\\n## Release notes\\n### 新功能\\n\\n- 【runtime env】Ray去依赖，去掉sklean，tensorboard等无关依赖（可能对应用兼容性有影响）\\n- 【runtime env】Ray集群镜像中的Ray whl包名字切到ant-ray，并且做唯一版本号\\n- 【runtime env】支持worker in container新的运行方式：在用户镜像里安装Ray，选项为“_install_ray”\\n- 【event】支持worker启动异常日志透出到event\\n- 【core】raylet oom killer的内存信息收集方式仿照earlyoom; 现在默认打开\\n- 【无感迁移】支持用户订阅其他job状态\\n- 【dashboard】API server的框架集群查询接口支持显示是否开启 job quota limit\\n### 优化\\n\\n- 【core】引入Pull based heath check功能\\n- 【core】禁止向默认的框架集群提交作业\\n- 【core】更新oss密钥，修复安全漏洞\\n- 【core】Raylet oom killer支持在线更新配置\\n- 【core】更新 dfget 版本\\n- 【core】raylet和gcs断连后降低查询tbase的频率\\n- 【core】关闭froce_grpc_ipv4，解决https下载问题\\n- 【object store】raylet 批量上报 object location\\n- 【dashboard】框架集群页面展示框架集群内节点数量\\n- 【dashboard】为worker页面过滤idle worker添加开关\\n- 【dashboard】优化dashboard GC，减少内存占用\\n- 【java】增加创建actor的最大重试次数\\n### Bug Fixes\\n\\n- 【dashboard】修复日志链接切换在worker页面中不存在的bug\\n- 【dashboard】修复cpp依赖不显示的问题\\n- 【core】修复raylet oom killer在线更新配置及event显示相关的问题\\n- 【object store】修复 object 重传的相关 bug\\n- 【java】解决driver command重复增长的问题\", \"1.4.18.3\\n\\n- 发布时间：2023.07.04\\n- 镜像：reg.docker.alibaba-inc.com/antfin_datatech_share/new_ray_image_prod:20230718100457-1.4.18.3-0a6d789a\\n- 公共试用集群：[ray-public-em14-gray](https://antc.alipay.com/raycloud/cluster/detail/186000185)（提供给大家测试使用，可以随意提交，但是不要发正式的作业）。\\n- Maven依赖：\\n```xml\\n<dependency>\\n  <groupId>io.ant-ray</groupId>\\n  <artifactId>ray-api</artifactId>\\n  <version>1.4.18.3</version>\\n</dependency>\\n<dependency>\\n  <groupId>io.ant-ray</groupId>\\n  <artifactId>ray-runtime</artifactId>\\n  <version>1.4.18.3</version>\\n</dependency>\\n```\\n\\n- pip\\n```\\npip install -i https://artifacts.antgroup-inc.cn/simple/ 'ant-ray==1.4.18.3'\\n```\\n\\ncpp:\\n```\\nhttp://raylet.cn-hangzhou-alipay-b.oss-cdn.aliyun-inc.com/ci/ant-ray-cpp-9d60b4536f6e9fe57b31cdd3a3813d011fbae35489ddcbd5353b8583677ff65e.zip\\nsha256: 9d60b4536f6e9fe57b31cdd3a3813d011fbae35489ddcbd5353b8583677ff65e\\nroot_dir_name: ray-1.4.18.3\\n```\\n\\n- Git tag：ant-ray-1.4.18.3\\n- Git commit: 0a6d789a32b26eb1d0d3f4c8b77e5be10df39fb4\\n## Release notes\\n### BUG Fixes\\n\\n- 被强制踢出框架集群的节点重启失效导致的worker泄漏问题\\n- 兼容4.0版本的redis\\n- 暂时关闭raylet oom killer\", \"1.4.18.2\\n\\n- 发布时间：2023.07.04\\n- 镜像：reg.docker.alibaba-inc.com/antfin_datatech_share/new_ray_image_prod:20230704212350-1.4.18.2-3a934278\\n- 公共试用集群：[ray-public-em14-gray](https://antc.alipay.com/raycloud/cluster/detail/186000185)（提供给大家测试使用，可以随意提交，但是不要发正式的作业）。\\n- Maven依赖：\\n```xml\\n<dependency>\\n  <groupId>io.ant-ray</groupId>\\n  <artifactId>ray-api</artifactId>\\n  <version>1.4.18.2</version>\\n</dependency>\\n<dependency>\\n  <groupId>io.ant-ray</groupId>\\n  <artifactId>ray-runtime</artifactId>\\n  <version>1.4.18.2</version>\\n</dependency>\\n```\\n\\n- pip\\n```\\npip install -i https://artifacts.antgroup-inc.cn/simple/ 'ant-ray==1.4.18.2'\\n```\\n\\ncpp:\\n```\\nhttp://raylet.cn-hangzhou-alipay-b.oss-cdn.aliyun-inc.com/ci/ant-ray-cpp-be0e6064786c0b37faa37c68b2542b10b2e5674baa1d873aa368a803940ea806.zip\\nsha256: be0e6064786c0b37faa37c68b2542b10b2e5674baa1d873aa368a803940ea806\\nroot_dir_name: ray-1.4.18.2\\n```\\n\\n- Git tag：ant-ray-1.4.18.2\\n- Git commit: 3a93427880a608261caaa7afa3ee1ceb42b68dd7\\n## Release notes\\n### BUG Fixes\\n\\n- C++ Worker libray_api.so放开所有符号，临时解决视频openssl符号冲突问题\\n- 设置joblib依赖版本，解决CI UT问题\", \"1.4.8\\n\\n- 发布时间：2022.06.27\\n- 镜像：reg.docker.alibaba-inc.com/antfin_datatech_share/new_ray_image_prod:eaa171f8c25e5db875d08f675b66c1853df2ca10-62b86f3af80cd2063d343ddd\\n- AntC集群包版本：ray-1.4.8\\n- 公共试用集群：[ray-public-em14-gray](https://antc.alipay.com/raycloud/cluster/detail/186000185)（提供给大家测试使用，可以随意提交，但是不要发正式的作业）。\\n- Maven依赖：\\n```xml\\n<dependency>\\n  <groupId>io.ant-ray</groupId>\\n  <artifactId>ray-api</artifactId>\\n  <version>1.4.8</version>\\n</dependency>\\n<dependency>\\n  <groupId>io.ant-ray</groupId>\\n  <artifactId>ray-runtime</artifactId>\\n  <version>1.4.8</version>\\n</dependency>\\n```\\n\\n- Pip：\\n```bash\\npip install -i https://pypi.antfin-inc.com/simple/ 'ant-ray==1.4.8'\\n```\\n\\n- Cpp woker library:\\n```\\nhttp://ray-project.oss-cn-hangzhou-zmf.aliyuncs.com/releases/1.4.8/lib/libray_api.so\\n```\\n[\\n](http://ray-project.oss-cn-hangzhou-zmf.aliyuncs.com/releases/1.4.8/lib/libray_api.so)\\n\\n- Git tag：ant-ray-1.4.8\\n- Git commit: eaa171f8c25e5db875d08f675b66c1853df2ca10\\n## Release notes\\n### 新功能\\n\\n- CPP Worker 支持 Event API \\n- 支持填写 CPP Job 依赖的 so 文件\\n### 优化\\n\\n- JobAgent 会缓存 archive 依赖中解压出来的文件\\n### Bug Fixes\\n\\n- 修复 ray client 提交的 RemoteFunction 会被其他作业的 ImportThread 反序列化的 bug\\n- 修复高版本 protobuf 包导致 ray 无法运行的问题\"]\n"
     ]
    },
    {
     "data": {
      "text/plain": [
       "{'question': '1.4.18版本的新功能有哪些？不用包括优化的。',\n",
       " 'sources': ['/Users/larry/Desktop/data/ray/1.4.x.md',\n",
       "  '/Users/larry/Desktop/data/ray/1.4.x.md',\n",
       "  '/Users/larry/Desktop/data/ray/1.4.x.md',\n",
       "  '/Users/larry/Desktop/data/ray/1.4.x.md',\n",
       "  '/Users/larry/Desktop/data/ray/1.4.x.md'],\n",
       " 'answer': '1.4.18版本的新功能有以下几个：\\n- 【runtime env】Ray去依赖，去掉sklean，tensorboard等无关依赖（可能对应用兼容性有影响）\\n- 【runtime env】Ray集群镜像中的Ray whl包名字切到ant-ray，并且做唯一版本号\\n- 【runtime env】支持worker in container新的运行方式：在用户镜像里安装Ray，选项为“_install_ray”\\n- 【event】支持worker启动异常日志透出到event\\n- 【core】raylet oom killer的内存信息收集方式仿照earlyoom; 现在默认打开\\n- 【无感迁移】支持用户订阅其他job状态\\n- 【dashboard】API server的框架集群查询接口支持显示是否开启 job quota limit\\n- CPP Worker 支持 Event API\\n- 支持填写 CPP Job 依赖的 so 文件',\n",
       " 'llm': 'gpt-3.5-turbo-16k'}"
      ]
     },
     "execution_count": 93,
     "metadata": {},
     "output_type": "execute_result"
    }
   ],
   "source": [
    "query = \"1.4.18版本的新功能有哪些？不用包括优化的。\"\n",
    "system_content = \"Answer the query using the context provided. Be succinct.\"\n",
    "agent = QueryAgent(\n",
    "    embedding_model_name=embedding_model_name,\n",
    "    llm=llm,\n",
    "    max_context_length=MAX_CONTEXT_LENGTHS[llm],\n",
    "    system_content=system_content)\n",
    "result = agent(query=query, stream=False)\n",
    "result"
   ]
  },
  {
   "cell_type": "code",
   "execution_count": 96,
   "metadata": {},
   "outputs": [
    {
     "name": "stdout",
     "output_type": "stream",
     "text": [
      "query: 1.4.7版本发布时间？, context: [\"1.4.7\\n\\n- 发布时间：2022.06.21\\n- 镜像：reg.docker.alibaba-inc.com/antfin_datatech_share/new_ray_image_prod:fd76038b9e62469e60ecb8c60880198b4a450d98-62b068cf8bd1a3052b259085\\n- AntC集群包版本：ray-1.4.7\\n- 公共试用集群：[ray-public-em14-gray](https://antc.alipay.com/raycloud/cluster/detail/186000185)（提供给大家测试使用，可以随意提交，但是不要发正式的作业）。\\n- Maven依赖：\\n```xml\\n<dependency>\\n  <groupId>io.ant-ray</groupId>\\n  <artifactId>ray-api</artifactId>\\n  <version>1.4.7</version>\\n</dependency>\\n<dependency>\\n  <groupId>io.ant-ray</groupId>\\n  <artifactId>ray-runtime</artifactId>\\n  <version>1.4.7</version>\\n</dependency>\\n```\\n\\n- Pip：\\n```bash\\npip install -i https://pypi.antfin-inc.com/simple/ 'ant-ray==1.4.7'\\n```\\n\\n- Git tag：ant-ray-1.4.7\\n- Git commit: fd76038b9e62469e60ecb8c60880198b4a450d98\\n## Release notes\\n### 新功能\\n\\n- 无\\n### 优化\\n\\n- 详细Cpp woker用户代码报异常时的日志\\n### Bug Fixes\\n\\n- 修复Java worker task return内存泄漏\\n- 修复kata镜像配置\\n- 修复作业停止时遗留PG导致PG调度hang住的问题\\n- 修复pg.ready()接口可能因为CPU资源用完一直hang住的问题\\n- 修复CoreWorker成员变量析构顺序有问题导致crash的问题\\n- 修正作业环境初始化完成后入参错误的问题（仅入参传递错误，逻辑上无实际影响\\n- 删除CancelWorkerLease中冗余逻辑\", \"1.4.15.1\\n\\n- 发布时间：2023.02.04\\n- 镜像：reg.docker.alibaba-inc.com/antfin_datatech_share/new_ray_image_prod:20230202171608-1.4.15.1-74a47624\\n- AntC集群包版本：ray-1.4.15.1\\n- 公共试用集群：[ray-public-em14-gray](https://antc.alipay.com/raycloud/cluster/detail/186000185)（提供给大家测试使用，可以随意提交，但是不要发正式的作业）。\\n- Maven依赖：\\n```xml\\n<dependency>\\n  <groupId>io.ant-ray</groupId>\\n  <artifactId>ray-api</artifactId>\\n  <version>1.4.15.1</version>\\n</dependency>\\n<dependency>\\n  <groupId>io.ant-ray</groupId>\\n  <artifactId>ray-runtime</artifactId>\\n  <version>1.4.15.1</version>\\n</dependency>\\n```\\n\\n- pip\\n```\\npip install -i https://artifacts.antgroup-inc.cn/simple/ 'ant-ray==1.4.15.1'\\n```\\n\\n- C++依赖包：\\n```bash\\nhttp://raylet.cn-hangzhou-alipay-b.oss-cdn.aliyun-inc.com/ci/ant-ray-cpp-e4708d20c3605f87cbfdabb5f48662051789c75b168baaba1872630441229f08.zip\\n\\nsha256: e4708d20c3605f87cbfdabb5f48662051789c75b168baaba1872630441229f08\\n```\\n\\n- Git tag：ant-ray-1.4.15.1\\n- Git commit: 74a47624f6c30e0ceeca57f252c0aae4b2a05447\\n## Release notes\\n### Bug Fixes\\n【Java】修复在long running作业总，KillJob API会导致不正确的job状态的问题。\", \"1.4.18.1\\n\\n- 发布时间：2023.06.30\\n- 镜像：reg.docker.alibaba-inc.com/antfin_datatech_share/new_ray_image_prod:20230629112820-1.4.18.1-767aed66\\n- 公共试用集群：[ray-public-em14-gray](https://antc.alipay.com/raycloud/cluster/detail/186000185)（提供给大家测试使用，可以随意提交，但是不要发正式的作业）。\\n- Maven依赖：\\n```xml\\n<dependency>\\n  <groupId>io.ant-ray</groupId>\\n  <artifactId>ray-api</artifactId>\\n  <version>1.4.18.1</version>\\n</dependency>\\n<dependency>\\n  <groupId>io.ant-ray</groupId>\\n  <artifactId>ray-runtime</artifactId>\\n  <version>1.4.18.1</version>\\n</dependency>\\n```\\n\\n- pip\\n```\\npip install -i https://artifacts.antgroup-inc.cn/simple/ 'ant-ray==1.4.18.1'\\n```\\n\\ncpp:\\n```\\nhttp://raylet.cn-hangzhou-alipay-b.oss-cdn.aliyun-inc.com/ci/ant-ray-cpp-40257a7a53857885d0e20bebc292ddececd65cdbb82e2a693c9055204059f747.zip\\nsha256: 40257a7a53857885d0e20bebc292ddececd65cdbb82e2a693c9055204059f747\\nroot_dir_name: ray-1.4.18.1\\n```\\n\\n- Git tag：ant-ray-1.4.18.1\\n- Git commit: 767aed66ab729c05d26768307a16d89988a9853d\\n## Release notes\\n### 优化\\n\\n- 【runtime_env】升级 conmon 和 podman binary，优化 RuntimEnv(podman 容器) 回收时的进程泄露问题\", \"1.4.18\\n\\n- 发布时间：\\n- 镜像：reg.docker.alibaba-inc.com/antfin_datatech_share/new_ray_image_prod:20230518104725-1.4.18-e0167eb4\\n- 公共试用集群：[ray-public-em14-gray](https://antc.alipay.com/raycloud/cluster/detail/186000185)（提供给大家测试使用，可以随意提交，但是不要发正式的作业）。\\n- Maven依赖：\\n```xml\\n<dependency>\\n  <groupId>io.ant-ray</groupId>\\n  <artifactId>ray-api</artifactId>\\n  <version>1.4.18</version>\\n</dependency>\\n<dependency>\\n  <groupId>io.ant-ray</groupId>\\n  <artifactId>ray-runtime</artifactId>\\n  <version>1.4.18</version>\\n</dependency>\\n```\\n\\n- pip\\n```\\npip install -i https://artifacts.antgroup-inc.cn/simple/ 'ant-ray==1.4.18'\\n```\\n\\ncpp:\\n```\\nhttp://raylet.cn-hangzhou-alipay-b.oss-cdn.aliyun-inc.com/ci/ant-ray-cpp-445cdf8f29d7b7acac0671feedcdccd37ab06463f2e6625ca981cffec386b2d8.zip\\nsha256: 445cdf8f29d7b7acac0671feedcdccd37ab06463f2e6625ca981cffec386b2d8\\nroot_dir_name: ray-1.4.18\\n```\\n\\n- Git tag：ant-ray-1.4.18\\n- Git commit: e0167eb4120dc95eab1ba059ebd7ce64c55f124a\\n## Release notes\\n### 新功能\\n\\n- 【runtime env】Ray去依赖，去掉sklean，tensorboard等无关依赖（可能对应用兼容性有影响）\\n- 【runtime env】Ray集群镜像中的Ray whl包名字切到ant-ray，并且做唯一版本号\\n- 【runtime env】支持worker in container新的运行方式：在用户镜像里安装Ray，选项为“_install_ray”\\n- 【event】支持worker启动异常日志透出到event\\n- 【core】raylet oom killer的内存信息收集方式仿照earlyoom; 现在默认打开\\n- 【无感迁移】支持用户订阅其他job状态\\n- 【dashboard】API server的框架集群查询接口支持显示是否开启 job quota limit\\n### 优化\\n\\n- 【core】引入Pull based heath check功能\\n- 【core】禁止向默认的框架集群提交作业\\n- 【core】更新oss密钥，修复安全漏洞\\n- 【core】Raylet oom killer支持在线更新配置\\n- 【core】更新 dfget 版本\\n- 【core】raylet和gcs断连后降低查询tbase的频率\\n- 【core】关闭froce_grpc_ipv4，解决https下载问题\\n- 【object store】raylet 批量上报 object location\\n- 【dashboard】框架集群页面展示框架集群内节点数量\\n- 【dashboard】为worker页面过滤idle worker添加开关\\n- 【dashboard】优化dashboard GC，减少内存占用\\n- 【java】增加创建actor的最大重试次数\\n### Bug Fixes\\n\\n- 【dashboard】修复日志链接切换在worker页面中不存在的bug\\n- 【dashboard】修复cpp依赖不显示的问题\\n- 【core】修复raylet oom killer在线更新配置及event显示相关的问题\\n- 【object store】修复 object 重传的相关 bug\\n- 【java】解决driver command重复增长的问题\", \"1.4.18.3\\n\\n- 发布时间：2023.07.04\\n- 镜像：reg.docker.alibaba-inc.com/antfin_datatech_share/new_ray_image_prod:20230718100457-1.4.18.3-0a6d789a\\n- 公共试用集群：[ray-public-em14-gray](https://antc.alipay.com/raycloud/cluster/detail/186000185)（提供给大家测试使用，可以随意提交，但是不要发正式的作业）。\\n- Maven依赖：\\n```xml\\n<dependency>\\n  <groupId>io.ant-ray</groupId>\\n  <artifactId>ray-api</artifactId>\\n  <version>1.4.18.3</version>\\n</dependency>\\n<dependency>\\n  <groupId>io.ant-ray</groupId>\\n  <artifactId>ray-runtime</artifactId>\\n  <version>1.4.18.3</version>\\n</dependency>\\n```\\n\\n- pip\\n```\\npip install -i https://artifacts.antgroup-inc.cn/simple/ 'ant-ray==1.4.18.3'\\n```\\n\\ncpp:\\n```\\nhttp://raylet.cn-hangzhou-alipay-b.oss-cdn.aliyun-inc.com/ci/ant-ray-cpp-9d60b4536f6e9fe57b31cdd3a3813d011fbae35489ddcbd5353b8583677ff65e.zip\\nsha256: 9d60b4536f6e9fe57b31cdd3a3813d011fbae35489ddcbd5353b8583677ff65e\\nroot_dir_name: ray-1.4.18.3\\n```\\n\\n- Git tag：ant-ray-1.4.18.3\\n- Git commit: 0a6d789a32b26eb1d0d3f4c8b77e5be10df39fb4\\n## Release notes\\n### BUG Fixes\\n\\n- 被强制踢出框架集群的节点重启失效导致的worker泄漏问题\\n- 兼容4.0版本的redis\\n- 暂时关闭raylet oom killer\"]\n"
     ]
    },
    {
     "data": {
      "text/plain": [
       "{'question': '1.4.7版本发布时间？',\n",
       " 'sources': ['/Users/larry/Desktop/data/ray/1.4.x.md',\n",
       "  '/Users/larry/Desktop/data/ray/1.4.x.md',\n",
       "  '/Users/larry/Desktop/data/ray/1.4.x.md',\n",
       "  '/Users/larry/Desktop/data/ray/1.4.x.md',\n",
       "  '/Users/larry/Desktop/data/ray/1.4.x.md'],\n",
       " 'answer': '1.4.7版本的发布时间是2022.06.21。',\n",
       " 'llm': 'gpt-3.5-turbo-16k'}"
      ]
     },
     "execution_count": 96,
     "metadata": {},
     "output_type": "execute_result"
    }
   ],
   "source": [
    "query = \"1.4.7版本发布时间？\"\n",
    "system_content = \"Answer the query using the context provided. Be succinct.\"\n",
    "agent = QueryAgent(\n",
    "    embedding_model_name=embedding_model_name,\n",
    "    llm=llm,\n",
    "    max_context_length=MAX_CONTEXT_LENGTHS[llm],\n",
    "    system_content=system_content)\n",
    "result = agent(query=query, stream=False)\n",
    "result"
   ]
  }
 ],
 "metadata": {
  "kernelspec": {
   "display_name": "3.10_agent",
   "language": "python",
   "name": "python3"
  },
  "language_info": {
   "codemirror_mode": {
    "name": "ipython",
    "version": 3
   },
   "file_extension": ".py",
   "mimetype": "text/x-python",
   "name": "python",
   "nbconvert_exporter": "python",
   "pygments_lexer": "ipython3",
   "version": "3.9.18"
  }
 },
 "nbformat": 4,
 "nbformat_minor": 2
}
